{
 "cells": [
  {
   "cell_type": "markdown",
   "id": "36e0326f-0266-4e93-ad53-e34605a9edf2",
   "metadata": {},
   "source": [
    "# 2-m air temperature (T2M) in NoahMP    \n",
    "\n",
    "T2M in NoahMP is calculated by combining T2MB and T2MV based on land use class & the fraction of vegetation on the grid cell.   \n",
    "\n",
    "The calculation copied from trunk/NDHMS/Land_models/NoahMP/phys/module_sf_noahmplsm.F around line 2045 is as below.    \n",
    "\n",
    "    IF (VEG .AND. FVEG > 0) THEN\n",
    "    T2M   = FVEG * T2MV      + (1.0 - FVEG) * T2MB\n",
    "    ELSE\n",
    "    T2M = T2MB\n",
    "\n",
    "    Long names/desc. of variables\n",
    "    FVEG   !greeness vegetation fraction (-)\n",
    "    T2MV   !2-m air temperature over vegetated part [k]\n",
    "    T2MB   !2-m air temperature over bare ground part [k]\n",
    "    T2M    !2 m height air temperature (k)\n",
    "    \n",
    "##### LU_INDEX is based on MODIS veg classes   \n",
    "\n",
    "&noahmp_modis_veg_categories\n",
    " VEG_DATASET_DESCRIPTION = \"modified igbp modis noah\"\n",
    " NVEG = 20\n",
    "/\n",
    "\n",
    "&noahmp_modis_parameters\n",
    "! 1          'Evergreen Needleleaf Forest'                       -> USGS 14  \n",
    "! 2,         'Evergreen Broadleaf Forest'                        -> USGS 13  \n",
    "! 3,         'Deciduous Needleleaf Forest'                       -> USGS 12  \n",
    "! 4,         'Deciduous Broadleaf Forest'                        -> USGS 11  \n",
    "! 5,         'Mixed Forests'                                     -> USGS 15  \n",
    "! 6,         'Closed Shrublands'                                 -> USGS  8 \"shrubland\"  \n",
    "! 7,         'Open Shrublands'                                   -> USGS  9 \"shrubland/grassland\"  \n",
    "! 8,         'Woody Savannas'                                    -> USGS  8 \"shrubland\"  \n",
    "! 9,         'Savannas'                                          -> USGS 10  \n",
    "! 10,        'Grasslands'                                        -> USGS  7  \n",
    "! 11         'Permanent wetlands'                                -> avg of USGS 17 and 18 (herb. wooded wetland)  \n",
    "! 12,        'Croplands'                                         -> USGS  2 \"dryland cropland\"  \n",
    "! 13,        'Urban and Built-Up'                                -> USGS  1  \n",
    "! 14         'cropland/natural vegetation mosaic'                -> USGS  5 \"cropland/grassland\"  \n",
    "! 15,        'Snow and Ice'                                      -> USGS 24  \n",
    "! 16,        'Barren or Sparsely Vegetated'                      -> USGS 19  \n",
    "! 17,        'Water'                                             -> USGS 16  \n",
    "! 18,        'Wooded Tundra'                                     -> USGS 21  \n",
    "! 19,        'Mixed Tundra'                                      -> USGS 22  \n",
    "! 20,        'Barren Tundra'                                     -> USGS 23  \n",
    "\n",
    "So, T2MV would not exist for classes 11, 13, 16, 17 that are not expected to have any vegetation.    \n",
    "\n",
    "The FVEG variables in the model is the SHDMAX from the input data (wrfinput_d01)    \n",
    "The maximum annual vegetion fraction in input data (SHDMAX).    \n",
    "ds_wrfin['SHDMAX'][0,:,:].plot()   \n",
    "This is the variable that is assigned to fveg for namelist option DYNAMIC_VEG_OPTION=4 (the recommended option used in these simulations)    \n",
    "based on tracing the NoahMP code to the READVEG_HRLDAS function in the trunk/NDHMS/Land_models/NoahMP/IO_code/module_hrldas_netcdf_io.F    "
   ]
  },
  {
   "cell_type": "code",
   "execution_count": 1,
   "id": "59637aac-faba-48a3-861c-90fb6d105bf9",
   "metadata": {},
   "outputs": [
    {
     "name": "stdout",
     "output_type": "stream",
     "text": [
      "Interactive namespace is empty.\n"
     ]
    }
   ],
   "source": [
    "%who"
   ]
  },
  {
   "cell_type": "code",
   "execution_count": 1,
   "id": "cd0b5bfc-4c02-44f1-9913-7095f8d5d057",
   "metadata": {
    "execution": {
     "iopub.execute_input": "2024-05-03T05:38:49.750102Z",
     "iopub.status.busy": "2024-05-03T05:38:49.749504Z",
     "iopub.status.idle": "2024-05-03T05:39:58.201815Z",
     "shell.execute_reply": "2024-05-03T05:39:58.199643Z",
     "shell.execute_reply.started": "2024-05-03T05:38:49.750047Z"
    }
   },
   "outputs": [],
   "source": [
    "import xarray as xr\n",
    "import numpy as np\n",
    "import sys\n",
    "new_path = '/home/566/ad9701/wrf_hydro/'\n",
    "if new_path not in sys.path:\n",
    "    sys.path.append(new_path)\n",
    "import wrf_hydro_analyses_funcs as myhydro"
   ]
  },
  {
   "cell_type": "code",
   "execution_count": 3,
   "id": "4c13f268-c128-4f9f-9f77-fb1718db9014",
   "metadata": {},
   "outputs": [],
   "source": [
    "wrf_hydro_ctl_list = ['/g/data/w97/ad9701/WRF-Hydro/SEA/noGW_runs/runs_wCalibPars_1km/wrf_hydro_nwm_public-5.2.0_domain4_1km_monPnTCorr_LSMonly_defSoil_defPar/trunk/NDHMS/Run/', #OUTPUT/DAILY_FILES/',\n",
    "                      '/g/data/w97/ad9701/WRF-Hydro/SEA/noGW_runs/runs_wCalibPars_4km/wrf_hydro_nwm_public-5.2.0_domain4_4km_monPnTCorr_LSMonly_defSoil_defPar/trunk/NDHMS/Run/', #OUTPUT/DAILY_FILES/',\n",
    "                      '/g/data/w97/ad9701/WRF-Hydro/SEA/noGW_runs/runs_wCalibPars_10km/wrf_hydro_nwm_public-5.2.0_domain4_10km_monPnTCorr_LSMonly_defSoil_defPar/trunk/NDHMS/Run/'] #OUTPUT/DAILY_FILES/']\n",
    "ctl_name_list = ['defSoil_defPar_1km', 'defSoil_defPar_4km', 'defSoil_defPar_10km']\n",
    "\n",
    "wrf_hydro_lat_list = ['/g/data/w28/ad9701/WRF-Hydro/SEA/noGW_runs/runs_wCalibPars_1km_100mRT/output_wrf_hydro_nwm_public-5.2.0_domain4_1km_monPnTCorr_t500_RTCHon_monPnTCorr_defSoil_defPar/', #OUTPUT/DAILY_FILES/',\n",
    "                      '/g/data/w97/ad9701/WRF-Hydro/SEA/noGW_runs/runs_wCalibPars_4km_100mRT/wrf_hydro_nwm_public-5.2.0_domain4_4km_t500_RTCHon_4g_monPnTCorr_defSoil_defPar/trunk/NDHMS/Run/', #OUTPUT/DAILY_FILES/',\n",
    "                      '/g/data/w97/ad9701/WRF-Hydro/SEA/noGW_runs/runs_wCalibPars_10km_100mRT/wrf_hydro_nwm_public-5.2.0_trial2/trunk/NDHMS/Run/'] #OUTPUT/DAILY_FILES/']\n",
    "run_name_list = ['defSoil_defPar_1km_100RT', 'defSoil_defPar_4km_100RT', 'defSoil_defPar_10km_100RT']\n",
    "\n",
    "wrf_hydro_lat_list_250 = ['/g/data/w97/ad9701/WRF-Hydro/SEA/noGW_runs/runs_wCalibPars_1km/wrf_hydro_nwm_public-5.2.0_domain4_1km_monPnTCorr_t80_RTCHon_monPnTCorr_defSoil_defPar/trunk/NDHMS/Run/', #OUTPUT/DAILY_FILES/',\n",
    "                      '/g/data/w97/ad9701/WRF-Hydro/SEA/noGW_runs/runs_wCalibPars_4km/wrf_hydro_nwm_public-5.2.0_domain4_4km_t80_RTCHon_12g_monPnTCorr_defSoil_defPar/trunk/NDHMS/Run/', #OUTPUT/DAILY_FILES/',\n",
    "                      '/g/data/w97/ad9701/WRF-Hydro/SEA/noGW_runs/runs_wCalibPars_10km/wrf_hydro_nwm_public-5.2.0_domain4_10km_monPnTCorr_t80_RTCHon_defSoil_defPar/trunk/NDHMS/Run/'] #OUTPUT/DAILY_FILES/']\n",
    "run_name_list_250 = ['defSoil_defPar_1km_250RT', 'defSoil_defPar_4km_250RT', 'defSoil_defPar_10km_250RT']"
   ]
  },
  {
   "cell_type": "code",
   "execution_count": 4,
   "id": "97d7f410-7c6b-4d41-81a8-07e1f3531ace",
   "metadata": {},
   "outputs": [
    {
     "name": "stdout",
     "output_type": "stream",
     "text": [
      "Wrote output file:/g/data/w97/ad9701/WRF-Hydro/SEA/noGW_runs/runs_wCalibPars_1km/wrf_hydro_nwm_public-5.2.0_domain4_1km_monPnTCorr_LSMonly_defSoil_defPar/trunk/NDHMS/Run//OUTPUT/DAILY_FILES/T2M_concatTime.nc\n",
      "Wrote output file:/g/data/w97/ad9701/WRF-Hydro/SEA/noGW_runs/runs_wCalibPars_4km/wrf_hydro_nwm_public-5.2.0_domain4_4km_monPnTCorr_LSMonly_defSoil_defPar/trunk/NDHMS/Run//OUTPUT/DAILY_FILES/T2M_concatTime.nc\n",
      "Wrote output file:/g/data/w97/ad9701/WRF-Hydro/SEA/noGW_runs/runs_wCalibPars_10km/wrf_hydro_nwm_public-5.2.0_domain4_10km_monPnTCorr_LSMonly_defSoil_defPar/trunk/NDHMS/Run//OUTPUT/DAILY_FILES/T2M_concatTime.nc\n",
      "Wrote output file:/g/data/w28/ad9701/WRF-Hydro/SEA/noGW_runs/runs_wCalibPars_1km_100mRT/output_wrf_hydro_nwm_public-5.2.0_domain4_1km_monPnTCorr_t500_RTCHon_monPnTCorr_defSoil_defPar//OUTPUT/DAILY_FILES/T2M_concatTime.nc\n",
      "Wrote output file:/g/data/w97/ad9701/WRF-Hydro/SEA/noGW_runs/runs_wCalibPars_4km_100mRT/wrf_hydro_nwm_public-5.2.0_domain4_4km_t500_RTCHon_4g_monPnTCorr_defSoil_defPar/trunk/NDHMS/Run//OUTPUT/DAILY_FILES/T2M_concatTime.nc\n",
      "Wrote output file:/g/data/w97/ad9701/WRF-Hydro/SEA/noGW_runs/runs_wCalibPars_10km_100mRT/wrf_hydro_nwm_public-5.2.0_trial2/trunk/NDHMS/Run//OUTPUT/DAILY_FILES/T2M_concatTime.nc\n",
      "Wrote output file:/g/data/w97/ad9701/WRF-Hydro/SEA/noGW_runs/runs_wCalibPars_1km/wrf_hydro_nwm_public-5.2.0_domain4_1km_monPnTCorr_t80_RTCHon_monPnTCorr_defSoil_defPar/trunk/NDHMS/Run//OUTPUT/DAILY_FILES/T2M_concatTime.nc\n",
      "Wrote output file:/g/data/w97/ad9701/WRF-Hydro/SEA/noGW_runs/runs_wCalibPars_4km/wrf_hydro_nwm_public-5.2.0_domain4_4km_t80_RTCHon_12g_monPnTCorr_defSoil_defPar/trunk/NDHMS/Run//OUTPUT/DAILY_FILES/T2M_concatTime.nc\n",
      "Wrote output file:/g/data/w97/ad9701/WRF-Hydro/SEA/noGW_runs/runs_wCalibPars_10km/wrf_hydro_nwm_public-5.2.0_domain4_10km_monPnTCorr_t80_RTCHon_defSoil_defPar/trunk/NDHMS/Run//OUTPUT/DAILY_FILES/T2M_concatTime.nc\n"
     ]
    }
   ],
   "source": [
    "all_run_dir_list = wrf_hydro_ctl_list + wrf_hydro_lat_list + wrf_hydro_lat_list_250\n",
    "for run_dir in all_run_dir_list:\n",
    "    myhydro.calc_T2M_and_writeFile(run_dir)"
   ]
  },
  {
   "cell_type": "code",
   "execution_count": null,
   "id": "7d8b588c-5c04-4299-97b1-c30518b322e5",
   "metadata": {},
   "outputs": [],
   "source": []
  }
 ],
 "metadata": {
  "kernelspec": {
   "display_name": "Python [conda env:analysis3-23.07]",
   "language": "python",
   "name": "conda-env-analysis3-23.07-py"
  },
  "language_info": {
   "codemirror_mode": {
    "name": "ipython",
    "version": 3
   },
   "file_extension": ".py",
   "mimetype": "text/x-python",
   "name": "python",
   "nbconvert_exporter": "python",
   "pygments_lexer": "ipython3",
   "version": "3.10.13"
  }
 },
 "nbformat": 4,
 "nbformat_minor": 5
}
