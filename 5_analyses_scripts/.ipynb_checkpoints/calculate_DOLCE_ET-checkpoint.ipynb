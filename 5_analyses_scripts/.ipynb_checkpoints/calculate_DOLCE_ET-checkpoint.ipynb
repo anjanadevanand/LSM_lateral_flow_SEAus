{
 "cells": [
  {
   "cell_type": "markdown",
   "id": "eb160771-fc4e-4f08-86f4-005fe5b572c8",
   "metadata": {},
   "source": [
    "# Convert LH to ET in the Dolce dataset"
   ]
  },
  {
   "cell_type": "code",
   "execution_count": 1,
   "id": "c4cffefe-7c81-454e-bad9-0b236a5f0c57",
   "metadata": {},
   "outputs": [],
   "source": [
    "import xarray as xr\n",
    "import numpy as np\n",
    "import xesmf as xe\n",
    "from scipy.interpolate import interp1d"
   ]
  },
  {
   "cell_type": "code",
   "execution_count": 2,
   "id": "5b5aadb4-f6da-4d85-8850-5e43d4bec482",
   "metadata": {},
   "outputs": [],
   "source": [
    "# functions to convert latent heat to evapotranspiration\n",
    "\n",
    "def estimate_water_density(Tair,  \n",
    "                           temp_array = [-20, -10, 0, 4, 10, 15, 20, 22, 25, 30, 40, 60], \n",
    "                           density_array = [993.547, 998.117, 999.8395, 999.9720, 999.7026, 999.1026, 998.2071, 997.7735, 997.0479, 995.6502, 992.2, 983.2]):\n",
    "    '''\n",
    "    estimate density given air temperature using a linear interpolation\n",
    "    density in kg/m3, Tair in degC\n",
    "    temp & density variation data taken from http://butane.chem.uiuc.edu/pshapley/GenChem1/L21/2.html\n",
    "    '''\n",
    "    density_interp = interp1d(temp_array, density_array)\n",
    "    densAir = density_interp(Tair)\n",
    "    return(densAir)\n",
    "\n",
    "def estimate_latentHeat_vap(Tair):\n",
    "    '''\n",
    "    returns latent heat of vapourisation in J/kg\n",
    "    Based on https://earthscience.stackexchange.com/questions/20733/fluxnet15-how-to-convert-latent-heat-flux-to-actual-evapotranspiration\n",
    "    '''\n",
    "    if (type(Tair) != np.ndarray) & (type(Tair) != list):\n",
    "        lv = (2.501 - ((2.361 * 10**-3)*Tair))*10**6\n",
    "    else:\n",
    "        lv = np.array([(2.501 - ((2.361 * 10**-3)*x))*10**6 for x in Tair])\n",
    "    return lv\n",
    "\n",
    "# I tried to get both the above functions to return identical data strutures when Tair is a scalar, but failed.\n",
    "# numpy scalar & 0-d arrays seem to be a core problem: https://stackoverflow.com/questions/773030/why-are-0d-arrays-in-numpy-not-considered-scalar\n",
    "# currently the below code works. but may run into scalar/0-d array problems at some stage\n",
    "\n",
    "def get_LE_to_ET_convFac(Tair):\n",
    "    '''\n",
    "    returns the equivalent in W/m2 for 1mm/day of ET\n",
    "    Divide LH by this factor to obtain ET in mm/day\n",
    "    '''\n",
    "    rho_arr = estimate_water_density(Tair)\n",
    "    lv_arr = estimate_latentHeat_vap(Tair)\n",
    "    if np.isscalar(Tair):\n",
    "        convFactor = rho_arr*lv_arr/1000/86400\n",
    "    else:\n",
    "        convFactor = [rho*lv/1000/86400 for rho, lv in zip(rho_arr, lv_arr)]\n",
    "    return convFactor    "
   ]
  },
  {
   "cell_type": "markdown",
   "id": "722524a6-c584-49fd-811a-47a4fe7ec88b",
   "metadata": {},
   "source": [
    "### Read DOLCE LH in southeast AU"
   ]
  },
  {
   "cell_type": "code",
   "execution_count": 3,
   "id": "0b8ed453-8fc8-4af2-b608-1af577b8a4f5",
   "metadata": {},
   "outputs": [],
   "source": [
    "dolce_dir = '/g/data/ks32/CLEX_Data/DOLCE/v3-0/'\n",
    "ds_dolce = xr.open_mfdataset(dolce_dir + 'DOLCE_v3_201[5-7].nc')\n",
    "lat_sel = slice(-39, -33)\n",
    "lon_sel = slice(144, 150)\n",
    "\n",
    "# SEA domain limits\n",
    "# -37.81326970349316\n",
    "# -33.56285264807483\n",
    "# 144.61747635043972\n",
    "# 149.62253789784688\n",
    "\n",
    "# a spatial subset of the DOLCE data\n",
    "# LH\n",
    "da_dolce = ds_dolce['hfls'].sel(lon = lon_sel, lat = lat_sel)\n",
    "# STDEV of LH\n",
    "da_dolce_sd = ds_dolce['hfls_sd'].sel(lon = lon_sel, lat = lat_sel)\n",
    "# LH lower bound\n",
    "da_dolce_lower = da_dolce - da_dolce_sd\n",
    "# LH upper bound\n",
    "da_dolce_upper = da_dolce + da_dolce_sd"
   ]
  },
  {
   "cell_type": "markdown",
   "id": "3d622481-8e1a-48a9-bb85-391be96b336a",
   "metadata": {},
   "source": [
    "### Get Tair from the AGCD dataset & calculate the conversion factor to convert LH (in W/m2) to ET (in mm/day)\n",
    "LH (in W/m2)/convFac = ET (in mm/day)"
   ]
  },
  {
   "cell_type": "code",
   "execution_count": 4,
   "id": "0c606b35-2280-4446-b871-f10f68b7be8a",
   "metadata": {},
   "outputs": [],
   "source": [
    "tmin_dir = '/g/data/zv2/agcd/v1/tmin/mean/r005/01month/'\n",
    "tmin_files = 'agcd_v1_tmin_mean_r005_monthly_201[5-7]*.nc'\n",
    "tmax_dir = '/g/data/zv2/agcd/v1/tmax/mean/r005/01month/'\n",
    "tmax_files = 'agcd_v1_tmax_mean_r005_monthly_201[5-7]*.nc'\n",
    "\n",
    "ds_tmin = xr.open_mfdataset(tmin_dir + tmin_files)\n",
    "ds_tmax = xr.open_mfdataset(tmax_dir + tmax_files)\n",
    "\n",
    "da_tmin = ds_tmin['tmin'].sel(lat = lat_sel, lon = lon_sel)\n",
    "da_tmax = ds_tmax['tmax'].sel(lat = lat_sel, lon = lon_sel)\n",
    "\n",
    "da_tmean = (da_tmin + da_tmax)/2\n",
    "\n",
    "# regrid to the DOLCE grid\n",
    "regridder = xe.Regridder(da_tmean, da_dolce, 'bilinear', unmapped_to_nan=True)\n",
    "da_tmean_reg = regridder(da_tmean)\n",
    "\n",
    "# assign the same time dimension as dolce for operations later\n",
    "da_tmean_reg = da_tmean_reg.assign_coords({'time': da_dolce.time.values})\n",
    "\n",
    "da_convFac = xr.apply_ufunc(get_LE_to_ET_convFac,\n",
    "                            da_tmean_reg,\n",
    "                            dask=\"parallelized\", \n",
    "                            vectorize=True)"
   ]
  },
  {
   "cell_type": "markdown",
   "id": "844471d1-2356-4794-bbc5-3623207183a3",
   "metadata": {},
   "source": [
    "### Convert DOLCE to ET in mm/day"
   ]
  },
  {
   "cell_type": "code",
   "execution_count": 5,
   "id": "02d02354-66a7-4c40-95e8-fbcf2f351288",
   "metadata": {},
   "outputs": [],
   "source": [
    "da_dolce_et = da_dolce/da_convFac\n",
    "da_dolce_sd_et = da_dolce_sd/da_convFac\n",
    "da_dolce_lower_et = da_dolce_et - da_dolce_sd_et\n",
    "da_dolce_upper_et = da_dolce_et + da_dolce_sd_et\n",
    "\n",
    "et_attrs = {'long_name': 'evapotranspiration', 'units': 'mm/day'}\n",
    "ds_dolce_ET = da_dolce_et.rename('ET').assign_attrs(et_attrs).to_dataset()\n",
    "ds_dolce_ET['ET_sd'] = da_dolce_sd_et.assign_attrs({'units':'mm/day'})\n",
    "ds_dolce_ET['ET_lower_bound'] = da_dolce_lower_et.assign_attrs(et_attrs)\n",
    "ds_dolce_ET['ET_upper_bound'] = da_dolce_upper_et.assign_attrs(et_attrs)\n",
    "\n",
    "ds_dolce_ET.load()\n",
    "\n",
    "for var in list(ds_dolce_ET.keys()):\n",
    "    ds_dolce_ET[var].encoding['zlib'] = True\n",
    "    ds_dolce_ET[var].encoding['complevel'] = 1\n",
    "\n",
    "out_file = '/g/data/w97/ad9701/DOLCE_ET/DOLCE_v3_ET_2015_to_2017_largerArea.nc'\n",
    "ds_dolce_ET.to_netcdf(out_file)"
   ]
  }
 ],
 "metadata": {
  "kernelspec": {
   "display_name": "Python [conda env:analysis3-23.07]",
   "language": "python",
   "name": "conda-env-analysis3-23.07-py"
  },
  "language_info": {
   "codemirror_mode": {
    "name": "ipython",
    "version": 3
   },
   "file_extension": ".py",
   "mimetype": "text/x-python",
   "name": "python",
   "nbconvert_exporter": "python",
   "pygments_lexer": "ipython3",
   "version": "3.10.13"
  }
 },
 "nbformat": 4,
 "nbformat_minor": 5
}
